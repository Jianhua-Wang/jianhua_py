{
 "cells": [
  {
   "cell_type": "code",
   "execution_count": 6,
   "metadata": {
    "ExecuteTime": {
     "end_time": "2020-01-08T06:06:09.294495Z",
     "start_time": "2020-01-08T06:06:09.291017Z"
    }
   },
   "outputs": [],
   "source": [
    "import pandas as pd\n",
    "import numpy as np\n",
    "import time,sys,os,tabix\n",
    "from subprocess import check_output\n",
    "from multiprocessing import Pool,Manager"
   ]
  },
  {
   "cell_type": "code",
   "execution_count": 14,
   "metadata": {
    "ExecuteTime": {
     "end_time": "2020-01-08T06:16:00.319000Z",
     "start_time": "2020-01-08T06:16:00.315776Z"
    }
   },
   "outputs": [],
   "source": [
    "merge_tabix = '/f/jianhua/rs2pos/b153/merged_b153.txt.gz'\n",
    "rs2pos_tabix = '/f/jianhua/rs2pos/b153/snp2pos_b153.txt.gz'\n",
    "pos2rs_tabix = '/f/jianhua/rs2pos/b153/pos2snp_b153.txt.gz'"
   ]
  },
  {
   "cell_type": "code",
   "execution_count": 81,
   "metadata": {
    "ExecuteTime": {
     "end_time": "2020-01-08T07:31:52.667637Z",
     "start_time": "2020-01-08T07:31:52.656234Z"
    }
   },
   "outputs": [],
   "source": [
    "def rsid2position_alleles(rsid):\n",
    "    '''\n",
    "    check whether the rsid was merged into other rsid\n",
    "    If rsID was merged into multiple rsIDs, use the first one (i.e. rs1448824014).\n",
    "    query hg19 coordinate and alleles\n",
    "    Use the first alternative allele for multiallelic sites.\n",
    "    \n",
    "    >>> rsid2position_alleles('rs4728142')\n",
    "    >>> ['7', '128573967', 'G', 'A']\n",
    "    '''\n",
    "    merge_out = check_output(\n",
    "        f'tabix {merge_tabix} {rsid[2]}:{rsid[2:]}-{rsid[2:]}', shell=True)\n",
    "    if merge_out == b'':\n",
    "        merged_rsid = rsid[2:]\n",
    "    else:\n",
    "        merged_rsid = merge_out.decode().split()[-1]\n",
    "\n",
    "    rs2pos_out = check_output(\n",
    "        f'tabix {rs2pos_tabix} {merged_rsid[0]}:{merged_rsid}-{merged_rsid}',\n",
    "        shell=True)\n",
    "    if rs2pos_out == b'':\n",
    "        return [np.nan] * 4\n",
    "    else:\n",
    "        return rs2pos_out.decode().split()[2:6]"
   ]
  },
  {
   "cell_type": "code",
   "execution_count": 77,
   "metadata": {
    "ExecuteTime": {
     "end_time": "2020-01-08T07:14:36.786801Z",
     "start_time": "2020-01-08T07:14:36.780929Z"
    }
   },
   "outputs": [],
   "source": [
    "def position2_rsid_alleles(chrom,pos):\n",
    "    '''\n",
    "    query by hg19 coordinate and get rsid, ref, alt\n",
    "    use the first record for multiallelic sites, for example, chr7:24944757\n",
    "    \n",
    "    >>> position2_rsid_alleles('chr7',24944757)\n",
    "    >>> ['rs132', 'T', 'A']\n",
    "    '''\n",
    "    if str(chrom).startswith('chr'):\n",
    "        chrom = chrom[3:]\n",
    "    \n",
    "    pos2rs_out = check_output(f'tabix {pos2rs_tabix} {chrom}:{pos}-{pos}',shell=True)\n",
    "    if pos2rs_out == b'':\n",
    "        return [np.nan] * 3\n",
    "    else:\n",
    "        return pos2rs_out.decode().split()[2:5]"
   ]
  },
  {
   "cell_type": "code",
   "execution_count": null,
   "metadata": {},
   "outputs": [],
   "source": [
    "def fill_all(chrom,pos,rsid,ref,alt):\n",
    "    '''\n",
    "    fill the missing value in chrom,pos,rsid,ref,alt according to the known one(s).\n",
    "    \n",
    "    '''\n",
    "    daying"
   ]
  },
  {
   "cell_type": "code",
   "execution_count": 83,
   "metadata": {
    "ExecuteTime": {
     "end_time": "2020-01-08T07:49:41.918067Z",
     "start_time": "2020-01-08T07:49:41.808115Z"
    }
   },
   "outputs": [
    {
     "data": {
      "text/plain": [
       "['rs61733845', 'C', 'A']"
      ]
     },
     "execution_count": 83,
     "metadata": {},
     "output_type": "execute_result"
    }
   ],
   "source": [
    "position2_rsid_alleles(1,1118275)"
   ]
  },
  {
   "cell_type": "code",
   "execution_count": null,
   "metadata": {},
   "outputs": [],
   "source": []
  }
 ],
 "metadata": {
  "jupytext": {
   "formats": "ipynb,py:light"
  },
  "kernelspec": {
   "display_name": "Python 3",
   "language": "python",
   "name": "python3"
  },
  "language_info": {
   "codemirror_mode": {
    "name": "ipython",
    "version": 3
   },
   "file_extension": ".py",
   "mimetype": "text/x-python",
   "name": "python",
   "nbconvert_exporter": "python",
   "pygments_lexer": "ipython3",
   "version": "3.6.4"
  },
  "toc": {
   "base_numbering": 1,
   "nav_menu": {},
   "number_sections": true,
   "sideBar": true,
   "skip_h1_title": false,
   "title_cell": "Table of Contents",
   "title_sidebar": "Contents",
   "toc_cell": false,
   "toc_position": {},
   "toc_section_display": true,
   "toc_window_display": false
  },
  "varInspector": {
   "cols": {
    "lenName": 16,
    "lenType": 16,
    "lenVar": 40
   },
   "kernels_config": {
    "python": {
     "delete_cmd_postfix": "",
     "delete_cmd_prefix": "del ",
     "library": "var_list.py",
     "varRefreshCmd": "print(var_dic_list())"
    },
    "r": {
     "delete_cmd_postfix": ") ",
     "delete_cmd_prefix": "rm(",
     "library": "var_list.r",
     "varRefreshCmd": "cat(var_dic_list()) "
    }
   },
   "types_to_exclude": [
    "module",
    "function",
    "builtin_function_or_method",
    "instance",
    "_Feature"
   ],
   "window_display": false
  }
 },
 "nbformat": 4,
 "nbformat_minor": 2
}
