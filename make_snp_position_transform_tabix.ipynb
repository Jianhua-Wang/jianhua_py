{
 "cells": [
  {
   "cell_type": "code",
   "execution_count": 1,
   "metadata": {
    "ExecuteTime": {
     "end_time": "2020-01-03T12:55:53.548291Z",
     "start_time": "2020-01-03T12:55:53.156971Z"
    }
   },
   "outputs": [],
   "source": [
    "import json\n",
    "import bz2\n",
    "import numpy as np\n",
    "import pandas as pd\n",
    "import gzip\n",
    "from subprocess import call,check_output"
   ]
  },
  {
   "cell_type": "code",
   "execution_count": 2,
   "metadata": {
    "ExecuteTime": {
     "end_time": "2020-01-03T12:55:54.360500Z",
     "start_time": "2020-01-03T12:55:54.356112Z"
    }
   },
   "outputs": [],
   "source": [
    "version = 'b153'"
   ]
  },
  {
   "cell_type": "markdown",
   "metadata": {},
   "source": [
    "# Create merged SNP file"
   ]
  },
  {
   "cell_type": "markdown",
   "metadata": {
    "ExecuteTime": {
     "end_time": "2020-01-03T08:09:57.533533Z",
     "start_time": "2020-01-03T08:09:57.525561Z"
    }
   },
   "source": [
    "Download the merged SNP (ftp://ftp.ncbi.nlm.nih.gov/snp/archive/b153/JSON/refsnp-merged.json.bz2)"
   ]
  },
  {
   "cell_type": "markdown",
   "metadata": {},
   "source": [
    "Parse the bz2 json file"
   ]
  },
  {
   "cell_type": "code",
   "execution_count": 29,
   "metadata": {
    "ExecuteTime": {
     "end_time": "2020-01-03T06:39:35.775106Z",
     "start_time": "2020-01-03T06:27:40.172755Z"
    },
    "scrolled": true
   },
   "outputs": [],
   "source": [
    "cnt = 0\n",
    "with open(f'./merged_{version}.txt', 'w') as f_out:\n",
    "    with bz2.BZ2File('./refsnp-merged.json.bz2', 'rb') as f_in:\n",
    "        for line in f_in:\n",
    "            rs_obj = json.loads(line.decode('utf-8'))\n",
    "            refsnp_id = rs_obj['refsnp_id']\n",
    "            for merge_into in rs_obj['merged_snapshot_data']['merged_into']:\n",
    "                f_out.write(f\"{refsnp_id[0]}\\t{refsnp_id}\\t{merge_into}\\n\")\n",
    "                for dbsnp1_merges in rs_obj['dbsnp1_merges']:\n",
    "                    dbsnp1_merges = dbsnp1_merges['merged_rsid']\n",
    "                    f_out.write(f\"{dbsnp1_merges[0]}\\t{dbsnp1_merges}\\t{merge_into}\\n\")\n",
    "            cnt += 1\n",
    "#             if (cnt == 10 ):\n",
    "#                 break"
   ]
  },
  {
   "cell_type": "markdown",
   "metadata": {},
   "source": [
    "sort txt file"
   ]
  },
  {
   "cell_type": "code",
   "execution_count": 33,
   "metadata": {
    "ExecuteTime": {
     "end_time": "2020-01-03T06:44:33.095755Z",
     "start_time": "2020-01-03T06:44:24.416051Z"
    },
    "scrolled": true
   },
   "outputs": [],
   "source": [
    "parsed_df = pd.read_csv(f'./merged_{version}.txt',sep='\\t',names=[1,2,3])\n",
    "\n",
    "parsed_df = parsed_df.sort_values([1,2])\n",
    "\n",
    "parsed_df.to_csv(f'./merged_{version}.txt',sep='\\t',index=False,header=False)"
   ]
  },
  {
   "cell_type": "markdown",
   "metadata": {},
   "source": [
    "bgzip and create index"
   ]
  },
  {
   "cell_type": "code",
   "execution_count": null,
   "metadata": {},
   "outputs": [],
   "source": [
    "!bgzip merged_b153.txt\n",
    "!tabix -C -s 1 -b 2 -e 2 merged_b153.txt.gz"
   ]
  },
  {
   "cell_type": "markdown",
   "metadata": {},
   "source": [
    "# Create position2snp and snp2position file"
   ]
  },
  {
   "cell_type": "markdown",
   "metadata": {},
   "source": [
    "Download VCF file of b153 (ftp://ftp.ncbi.nlm.nih.gov/snp/archive/b153/VCF/GCF_000001405.25.gz)"
   ]
  },
  {
   "cell_type": "markdown",
   "metadata": {},
   "source": [
    "split the multiallelic sites"
   ]
  },
  {
   "cell_type": "code",
   "execution_count": null,
   "metadata": {},
   "outputs": [],
   "source": [
    "!bcftools norm GCF_000001405.25.gz -m - -O z -o GCF_000001405.25.nomultiallelic.gz"
   ]
  },
  {
   "cell_type": "markdown",
   "metadata": {},
   "source": [
    "count lines of header"
   ]
  },
  {
   "cell_type": "code",
   "execution_count": 4,
   "metadata": {
    "ExecuteTime": {
     "end_time": "2020-01-03T12:57:07.154452Z",
     "start_time": "2020-01-03T12:57:07.146231Z"
    }
   },
   "outputs": [],
   "source": [
    "n_header = 0\n",
    "with gzip.open('./GCF_000001405.25.nomultiallelic.gz','rb') as f:\n",
    "    for line in f:\n",
    "        if line.decode('utf-8').startswith('##'):\n",
    "            n_header += 1\n",
    "        else:\n",
    "            break"
   ]
  },
  {
   "cell_type": "markdown",
   "metadata": {},
   "source": [
    "- read every 100000 line\n",
    "- replace the name of #CHROM with 1..22\n",
    "- write to position2snp file (mode: add)\n",
    "- use the first int of rsid as the \"chrom\" and rsid as the \"POS\"\n",
    "- write to snp2position file (mode: add)"
   ]
  },
  {
   "cell_type": "markdown",
   "metadata": {},
   "source": [
    "create chrom name map dict"
   ]
  },
  {
   "cell_type": "code",
   "execution_count": 5,
   "metadata": {
    "ExecuteTime": {
     "end_time": "2020-01-03T12:57:10.882350Z",
     "start_time": "2020-01-03T12:57:10.793685Z"
    }
   },
   "outputs": [],
   "source": [
    "chr_name_map = pd.Series(data=list(range(1, 23)) + ['X', 'Y'],\n",
    "                         index=check_output('tabix -l ./GCF_000001405.25.gz',\n",
    "                                            shell=True).decode().split()[:24])"
   ]
  },
  {
   "cell_type": "code",
   "execution_count": 7,
   "metadata": {
    "ExecuteTime": {
     "end_time": "2020-01-03T14:21:45.226865Z",
     "start_time": "2020-01-03T13:00:06.678078Z"
    }
   },
   "outputs": [],
   "source": [
    "for df in pd.read_csv('./GCF_000001405.25.nomultiallelic.gz',\n",
    "                      sep='\\t',\n",
    "                      skiprows=n_header,\n",
    "                      compression='gzip',\n",
    "                      usecols=['#CHROM', 'POS', 'ID', 'REF', 'ALT'],\n",
    "                      chunksize=100000):\n",
    "    # replace chr\n",
    "    df['#CHROM'] = df['#CHROM'].map(chr_name_map)\n",
    "\n",
    "    # remove chrM\n",
    "    df = df.dropna()\n",
    "    # stop when df are all chrM\n",
    "    if len(df) == 0:\n",
    "        break\n",
    "\n",
    "    # use first int of rsid as fake chr\n",
    "    df['rsid'] = df['ID'].map(lambda rsid: rsid[2:])\n",
    "    df['rsid_1st'] = df['ID'].map(lambda rsid: rsid[2])\n",
    "\n",
    "    # write pos2snp file\n",
    "    df[['#CHROM', 'POS', 'ID', 'REF',\n",
    "        'ALT']].to_csv(f'./pos2snp_{version}.txt',\n",
    "                       sep='\\t',\n",
    "                       index=False,\n",
    "                       header=False,\n",
    "                       mode='a')\n",
    "    # write snp2pos file\n",
    "    df[['rsid_1st', 'rsid', '#CHROM', 'POS', 'REF',\n",
    "        'ALT']].to_csv(f'./snp2pos_{version}_unsorted.txt',\n",
    "                       sep='\\t',\n",
    "                       index=False,\n",
    "                       header=False,\n",
    "                       mode='a')"
   ]
  },
  {
   "cell_type": "code",
   "execution_count": 1,
   "metadata": {
    "ExecuteTime": {
     "end_time": "2020-01-04T02:12:52.446273Z",
     "start_time": "2020-01-04T02:12:43.670292Z"
    }
   },
   "outputs": [
    {
     "name": "stdout",
     "output_type": "stream",
     "text": [
      "wc: pos2snp_b153.txt: No such file or directory\n",
      "723960933 snp2pos_b153_unsorted.txt\n"
     ]
    }
   ],
   "source": [
    "!wc -l pos2snp_b153.txt\n",
    "!wc -l snp2pos_b153_unsorted.txt"
   ]
  },
  {
   "cell_type": "markdown",
   "metadata": {},
   "source": [
    "sort, bgzip, index"
   ]
  },
  {
   "cell_type": "code",
   "execution_count": null,
   "metadata": {},
   "outputs": [],
   "source": [
    "!sort -k 1,1 -k 2,2n snp2pos_b153_unsorted.txt > snp2pos_b153.txt\n",
    "\n",
    "!bgzip snp2pos_b153.txt\n",
    "!bgzip pos2snp_b153.txt\n",
    "\n",
    "!tabix -s 1 -b 2 -e 2 pos2snp_b153.txt.gz\n",
    "!tabix -C -s 1 -b 2 -e 2 snp2pos_b153.txt.gz"
   ]
  },
  {
   "cell_type": "markdown",
   "metadata": {},
   "source": [
    "query example"
   ]
  },
  {
   "cell_type": "code",
   "execution_count": 2,
   "metadata": {
    "ExecuteTime": {
     "end_time": "2020-01-04T02:59:45.892881Z",
     "start_time": "2020-01-04T02:59:45.555772Z"
    }
   },
   "outputs": [
    {
     "name": "stdout",
     "output_type": "stream",
     "text": [
      "1\t10019\trs775809821\tTA\tT\n",
      "7\t775809821\t1\t10019\tTA\tT\n"
     ]
    }
   ],
   "source": [
    "!tabix pos2snp_b153.txt.gz 1:10019-10019\n",
    "!tabix snp2pos_b153.txt.gz 7:775809821-775809821"
   ]
  },
  {
   "cell_type": "code",
   "execution_count": null,
   "metadata": {},
   "outputs": [],
   "source": []
  }
 ],
 "metadata": {
  "jupytext": {
   "formats": "ipynb,py:light"
  },
  "kernelspec": {
   "display_name": "Python 3",
   "language": "python",
   "name": "python3"
  },
  "language_info": {
   "codemirror_mode": {
    "name": "ipython",
    "version": 3
   },
   "file_extension": ".py",
   "mimetype": "text/x-python",
   "name": "python",
   "nbconvert_exporter": "python",
   "pygments_lexer": "ipython3",
   "version": "3.6.8"
  },
  "toc": {
   "base_numbering": 1,
   "nav_menu": {},
   "number_sections": true,
   "sideBar": true,
   "skip_h1_title": false,
   "title_cell": "Table of Contents",
   "title_sidebar": "Contents",
   "toc_cell": false,
   "toc_position": {},
   "toc_section_display": true,
   "toc_window_display": false
  },
  "varInspector": {
   "cols": {
    "lenName": 16,
    "lenType": 16,
    "lenVar": 40
   },
   "kernels_config": {
    "python": {
     "delete_cmd_postfix": "",
     "delete_cmd_prefix": "del ",
     "library": "var_list.py",
     "varRefreshCmd": "print(var_dic_list())"
    },
    "r": {
     "delete_cmd_postfix": ") ",
     "delete_cmd_prefix": "rm(",
     "library": "var_list.r",
     "varRefreshCmd": "cat(var_dic_list()) "
    }
   },
   "position": {
    "height": "390.85px",
    "left": "1498px",
    "right": "20px",
    "top": "119px",
    "width": "340px"
   },
   "types_to_exclude": [
    "module",
    "function",
    "builtin_function_or_method",
    "instance",
    "_Feature"
   ],
   "window_display": true
  }
 },
 "nbformat": 4,
 "nbformat_minor": 2
}
