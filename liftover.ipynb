{
 "cells": [
  {
   "cell_type": "code",
   "execution_count": null,
   "metadata": {
    "ExecuteTime": {
     "end_time": "2020-05-29T09:41:10.441628Z",
     "start_time": "2020-05-29T09:41:10.143761Z"
    }
   },
   "outputs": [],
   "source": [
    "import pandas as pd\n",
    "import numpy as np\n",
    "from pyliftover import LiftOver\n",
    "import sys, argparse, time, os\n",
    "from multiprocessing import Pool"
   ]
  },
  {
   "cell_type": "code",
   "execution_count": 3,
   "metadata": {
    "ExecuteTime": {
     "end_time": "2020-01-08T03:09:10.349117Z",
     "start_time": "2020-01-08T03:09:10.343373Z"
    }
   },
   "outputs": [],
   "source": [
    "def lift_single_site(old_chr_old_pos):\n",
    "    old_chr,old_pos = old_chr_old_pos\n",
    "    new_coordinates = [np.nan,np.nan]\n",
    "    if str(old_chr).startswith('chr'):\n",
    "        lift = lo.convert_coordinate(old_chr, old_pos)\n",
    "        if len(lift) != 0:\n",
    "            new_chr = lift[0][0]\n",
    "            new_pos = int(lift[0][1])\n",
    "            new_coordinates = [new_chr,new_pos]\n",
    "    else:\n",
    "        old_chr = f'chr{old_chr}'\n",
    "        lift = lo.convert_coordinate(old_chr, old_pos)\n",
    "        if len(lift) != 0:\n",
    "            new_chr = lift[0][0][3:]\n",
    "            new_pos = int(lift[0][1])\n",
    "            new_coordinates = [new_chr,new_pos]\n",
    "    return new_coordinates"
   ]
  },
  {
   "cell_type": "code",
   "execution_count": null,
   "metadata": {},
   "outputs": [],
   "source": [
    "def main():\n",
    "    start = time.time()\n",
    "    if args.gzip:\n",
    "        gzip = 'gzip'\n",
    "    else:\n",
    "        gzip = None\n",
    "\n",
    "    # define old to new\n",
    "    global lo\n",
    "    lo = LiftOver(args.old, args.new)\n",
    "\n",
    "    # define separator\n",
    "    if args.sep == 'table':\n",
    "        sep = '\\t'\n",
    "    else:\n",
    "        sep = ','\n",
    "\n",
    "    if os.path.exists(args.output):\n",
    "        print(f'Output file exists, overwrite it.')\n",
    "        os.remove(args.output)\n",
    "    \n",
    "    print(f'\\nOriginal Build: {args.old}\\tNew Build: {args.new}\\tThread: {args.thread}\\n')\n",
    "    succeed, total = 0,0\n",
    "    demo = pd.read_csv(args.input,sep=sep,dtype=str,nrows=1,compression=gzip)\n",
    "    if args.headless:\n",
    "        names = [str(x) for x in range(len(demo.columns))]\n",
    "        chr_id,bp = names[args.chr],names[args.pos]\n",
    "    else:\n",
    "        names = None\n",
    "        write_header = open(args.output,'w')\n",
    "        write_header.write(f'{sep}'.join(demo.columns)+'\\n')\n",
    "        write_header.close()\n",
    "        chr_id,bp = demo.columns[args.chr],demo.columns[args.pos]\n",
    "\n",
    "    for df in pd.read_csv(args.input,sep=sep,chunksize=10000,compression=gzip):\n",
    "        p = Pool(args.thread)\n",
    "        df[[chr_id,bp]] = p.map(lift_single_site,df[[chr_id,bp]].values)\n",
    "        p.close()\n",
    "        total += len(df)\n",
    "        df = df.dropna(subset=[chr_id,bp])\n",
    "        succeed += len(df)\n",
    "        df = df.astype({chr_id:str,bp:int})\n",
    "        df.to_csv(args.output,sep=sep,index=False,mode='a',header=False)\n",
    "        print(f'\\rSucceed: {succeed :,}\\t\\tFailed: {total-succeed :,}',end='')\n",
    "        sys.stdout.flush()\n",
    "    end = time.time()\n",
    "    print(f'\\rTotal: {total :,}\\tSucceed: {succeed :,}\\tFailed: {total-succeed :,}\\tIn: {end-start :.2f}s')\n",
    "    print('Have a nice day! :)')"
   ]
  },
  {
   "cell_type": "code",
   "execution_count": 9,
   "metadata": {
    "ExecuteTime": {
     "end_time": "2020-01-08T03:20:13.621492Z",
     "start_time": "2020-01-08T03:20:13.615626Z"
    }
   },
   "outputs": [],
   "source": [
    "def print_logo():\n",
    "    logo = '''\n",
    "========================================================================\n",
    "     \\033[1;33m/\\\\\\033[0m\n",
    "    \\033[1;33m/__\\\\\\033[0m\\033[1;31m\\\\\\033[0m            Convert Genome Build of Summary Statistics\n",
    "   \\033[1;33m/\\033[0m  \\033[1;31m---\\\\\\033[0m           \n",
    "  \\033[1;33m/\\\\\\033[0m      \\033[1;31m\\\\\\033[0m          Author: Jianhua Wang\n",
    " \\033[1;33m/\\033[0m\\033[1;32m/\\\\\\033[0m\\033[1;33m\\\\\\033[0m     \\033[1;31m/\\\\\\033[0m         Date:   01-07-2020\n",
    " \\033[1;32m/  \\   /\\033[0m\\033[1;31m/__\\\\\\033[0m\n",
    "\\033[1;32m`----`-----\\033[0m\n",
    "========================================================================\n",
    "    '''\n",
    "    print(logo)"
   ]
  },
  {
   "cell_type": "code",
   "execution_count": 10,
   "metadata": {
    "ExecuteTime": {
     "end_time": "2020-01-08T03:20:47.794877Z",
     "start_time": "2020-01-08T03:20:47.777553Z"
    }
   },
   "outputs": [],
   "source": [
    "def parseArguments():\n",
    "    parser = argparse.ArgumentParser(usage=\"conver genome build of txt or csv file, require pyliftover\",description=\"python liftover.py -c 0 -p 1 test.txt test_lifted.txt\",)\n",
    "    parser.add_argument('input', type=str, help='input unlifted file'),\n",
    "    parser.add_argument('output', type=str, help='output lifted file'),\n",
    "    parser.add_argument('-c','--chr', type=int, help='colunm positon of chromosome (0-based), default=0',default=0,metavar=''),\n",
    "    parser.add_argument('-p','--pos', type=int, help='colunm positon of base pair (0-based), default=1',default=1,metavar=''),\n",
    "    parser.add_argument('-o','--old', type=str, choices=['hg17','hg18','hg19','hg38'], help='Genome Build of input file, choose from [hg17,hg18,hg19,hg38], default=hg19',default='hg19',metavar='')\n",
    "    parser.add_argument('-n','--new', type=str, choices=['hg17','hg18','hg19','hg38'], help='Genome Build of output file, choose from [hg17,hg18,hg19,hg38], default=hg38',default='hg38',metavar='')\n",
    "    parser.add_argument('-s','--sep', type=str, choices=['table','comma'], help='separator of input file, choose from [table,comma], default=table',default='table',metavar='')\n",
    "    parser.add_argument('-t','--thread', type=int, help='threads you want to run, default=20',default=20,metavar='')\n",
    "#     parser.add_argument('--withchr', action='store_true', help='exist when chromosome of input starts with chr, and output starts with chr, either')\n",
    "    parser.add_argument('--gzip', action='store_true', help='exist when input is .gz file, but output text file, still')\n",
    "    parser.add_argument('--headless', action='store_true', help='exist when input is headless file, and output headless file, either')\n",
    "    args = parser.parse_args()\n",
    "    return args"
   ]
  },
  {
   "cell_type": "code",
   "execution_count": null,
   "metadata": {},
   "outputs": [],
   "source": [
    "if __name__ == '__main__':\n",
    "    print_logo()\n",
    "    args = parseArguments()\n",
    "    main()"
   ]
  }
 ],
 "metadata": {
  "jupytext": {
   "formats": "ipynb,py:light"
  },
  "kernelspec": {
   "display_name": "Python 3",
   "language": "python",
   "name": "python3"
  },
  "language_info": {
   "codemirror_mode": {
    "name": "ipython",
    "version": 3
   },
   "file_extension": ".py",
   "mimetype": "text/x-python",
   "name": "python",
   "nbconvert_exporter": "python",
   "pygments_lexer": "ipython3",
   "version": "3.7.4"
  },
  "toc": {
   "base_numbering": 1,
   "nav_menu": {},
   "number_sections": true,
   "sideBar": true,
   "skip_h1_title": false,
   "title_cell": "Table of Contents",
   "title_sidebar": "Contents",
   "toc_cell": false,
   "toc_position": {},
   "toc_section_display": true,
   "toc_window_display": false
  },
  "varInspector": {
   "cols": {
    "lenName": 16,
    "lenType": 16,
    "lenVar": 40
   },
   "kernels_config": {
    "python": {
     "delete_cmd_postfix": "",
     "delete_cmd_prefix": "del ",
     "library": "var_list.py",
     "varRefreshCmd": "print(var_dic_list())"
    },
    "r": {
     "delete_cmd_postfix": ") ",
     "delete_cmd_prefix": "rm(",
     "library": "var_list.r",
     "varRefreshCmd": "cat(var_dic_list()) "
    }
   },
   "types_to_exclude": [
    "module",
    "function",
    "builtin_function_or_method",
    "instance",
    "_Feature"
   ],
   "window_display": false
  }
 },
 "nbformat": 4,
 "nbformat_minor": 4
}
